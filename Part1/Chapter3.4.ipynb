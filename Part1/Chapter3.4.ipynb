{
 "cells": [
  {
   "cell_type": "markdown",
   "metadata": {},
   "source": [
    "## Chapter3.4 Cloud Natural Language API"
   ]
  },
  {
   "cell_type": "code",
   "execution_count": 1,
   "metadata": {
    "collapsed": true
   },
   "outputs": [],
   "source": [
    "# NL API クライアントライブラリをインポート\n",
    "from google.cloud import language\n",
    "\n",
    "# クライアントのインスタンスを作成\n",
    "nl_client = language.Client()"
   ]
  },
  {
   "cell_type": "code",
   "execution_count": 2,
   "metadata": {},
   "outputs": [
    {
     "name": "stdout",
     "output_type": "stream",
     "text": [
      "====================\n",
      "　　　単語: 六本木ヒルズ\n",
      "　　　種類: LOCATION\n",
      "メタデータ: {u'mid': u'/m/01r2_k', u'wikipedia_url': u'https://en.wikipedia.org/wiki/Roppongi_Hills'}\n",
      "　　重要度: 0.21421166\n",
      "====================\n",
      "　　　単語: Google\n",
      "　　　種類: ORGANIZATION\n",
      "メタデータ: {u'mid': u'/m/045c7b', u'wikipedia_url': u'https://en.wikipedia.org/wiki/Google'}\n",
      "　　重要度: 0.19177863\n",
      "====================\n",
      "　　　単語: 会議室\n",
      "　　　種類: EVENT\n",
      "メタデータ: {}\n",
      "　　重要度: 0.17811868\n",
      "====================\n",
      "　　　単語: 山手線\n",
      "　　　種類: LOCATION\n",
      "メタデータ: {u'mid': u'/m/0213pt', u'wikipedia_url': u'https://en.wikipedia.org/wiki/Yamanote_Line'}\n",
      "　　重要度: 0.1652496\n",
      "====================\n",
      "　　　単語: オフィス\n",
      "　　　種類: PERSON\n",
      "メタデータ: {}\n",
      "　　重要度: 0.13799447\n",
      "====================\n",
      "　　　単語: 駅名\n",
      "　　　種類: OTHER\n",
      "メタデータ: {}\n",
      "　　重要度: 0.11264697\n"
     ]
    }
   ],
   "source": [
    "# 解析する文章\n",
    "text = u'六本木ヒルズにあるGoogleのオフィスには山手線駅名の会議室があります。'\n",
    "document = nl_client.document_from_text(text)\n",
    "\n",
    "# エンティティ分析を実行\n",
    "response = document.analyze_entities()\n",
    "\n",
    "# 結果の表示\n",
    "for entity in response.entities:\n",
    "    print('=' * 20)\n",
    "    print(u'　　　単語: {}'.format(entity.name))\n",
    "    print(u'　　　種類: {}'.format(entity.entity_type))\n",
    "    print(u'メタデータ: {}'.format(entity.metadata))\n",
    "    print(u'　　重要度: {}'.format(entity.salience))"
   ]
  },
  {
   "cell_type": "code",
   "execution_count": 3,
   "metadata": {},
   "outputs": [
    {
     "name": "stdout",
     "output_type": "stream",
     "text": [
      "全文の感情値: 0.1, 1.4\n",
      "\n",
      "文章毎の感情値;\n",
      "====================\n",
      "文章: 昨日食べたフレンチはとても美味しかったです。\n",
      "感情値: 0.9, 0.9\n",
      "====================\n",
      "文章: でも値段が高すぎるのでもう行かないでしょう。\n",
      "感情値: -0.5, 0.5\n"
     ]
    }
   ],
   "source": [
    "# 解析する文章\n",
    "text = u\"\"\"\n",
    "昨日食べたフレンチはとても美味しかったです。\n",
    "でも値段が高すぎるのでもう行かないでしょう。\"\"\"\n",
    "document = nl_client.document_from_text(text)\n",
    "\n",
    "# 感情分析を実行\n",
    "response = document.analyze_sentiment()\n",
    "sentiment = response.sentiment\n",
    "\n",
    "print(u'全文の感情値: {}, {}'.format(sentiment.score, sentiment.magnitude))\n",
    "print('')\n",
    "\n",
    "print(u'文章毎の感情値;')\n",
    "for s in response.sentences:\n",
    "    print('=' * 20)\n",
    "    print(u'文章: {}'.format(s.content))\n",
    "    print(u'感情値: {}, {}'.format(s.sentiment.score, s.sentiment.magnitude))"
   ]
  }
 ],
 "metadata": {
  "kernelspec": {
   "display_name": "Python 2",
   "language": "python",
   "name": "python2"
  },
  "language_info": {
   "codemirror_mode": {
    "name": "ipython",
    "version": 2
   },
   "file_extension": ".py",
   "mimetype": "text/x-python",
   "name": "python",
   "nbconvert_exporter": "python",
   "pygments_lexer": "ipython2",
   "version": "2.7.9"
  }
 },
 "nbformat": 4,
 "nbformat_minor": 2
}
