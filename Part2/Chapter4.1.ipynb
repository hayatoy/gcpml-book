{
 "cells": [
  {
   "cell_type": "markdown",
   "metadata": {},
   "source": [
    "## Chapter4.1 単純な識別"
   ]
  },
  {
   "cell_type": "markdown",
   "metadata": {},
   "source": [
    "必要なライブラリをインポートします"
   ]
  },
  {
   "cell_type": "code",
   "execution_count": 1,
   "metadata": {
    "collapsed": true
   },
   "outputs": [],
   "source": [
    "import numpy as np\n",
    "import pandas as pd\n",
    "import matplotlib.pyplot as plt"
   ]
  },
  {
   "cell_type": "markdown",
   "metadata": {},
   "source": [
    "scikit-learnでデータセットを作成"
   ]
  },
  {
   "cell_type": "code",
   "execution_count": 2,
   "metadata": {
    "collapsed": true
   },
   "outputs": [],
   "source": [
    "from sklearn.datasets import make_blobs\n",
    "\n",
    "X_dataset, y_dataset = make_blobs(centers=[[0.3, 0.7], [0.7, 0.3]],\n",
    "                                  cluster_std=0.1,\n",
    "                                  center_box=(0.0, 1.0),\n",
    "                                  random_state=42)"
   ]
  },
  {
   "cell_type": "markdown",
   "metadata": {},
   "source": [
    "Pandas DataFrameの形式に変換し、カラム名に `x0`, `x1`, `y`を付けます"
   ]
  },
  {
   "cell_type": "code",
   "execution_count": 3,
   "metadata": {
    "collapsed": true
   },
   "outputs": [],
   "source": [
    "dataset = pd.DataFrame(X_dataset, columns=['x0', 'x1'])\n",
    "dataset['y'] = y_dataset"
   ]
  },
  {
   "cell_type": "code",
   "execution_count": 4,
   "metadata": {},
   "outputs": [
    {
     "data": {
      "text/html": [
       "<div>\n",
       "<table border=\"1\" class=\"dataframe\">\n",
       "  <thead>\n",
       "    <tr style=\"text-align: right;\">\n",
       "      <th></th>\n",
       "      <th>x0</th>\n",
       "      <th>x1</th>\n",
       "      <th>y</th>\n",
       "    </tr>\n",
       "  </thead>\n",
       "  <tbody>\n",
       "    <tr>\n",
       "      <th>0</th>\n",
       "      <td>0.747324</td>\n",
       "      <td>0.292717</td>\n",
       "      <td>1</td>\n",
       "    </tr>\n",
       "    <tr>\n",
       "      <th>1</th>\n",
       "      <td>0.216078</td>\n",
       "      <td>0.669079</td>\n",
       "      <td>0</td>\n",
       "    </tr>\n",
       "    <tr>\n",
       "      <th>2</th>\n",
       "      <td>0.508123</td>\n",
       "      <td>0.297349</td>\n",
       "      <td>1</td>\n",
       "    </tr>\n",
       "    <tr>\n",
       "      <th>3</th>\n",
       "      <td>0.252083</td>\n",
       "      <td>0.681434</td>\n",
       "      <td>0</td>\n",
       "    </tr>\n",
       "    <tr>\n",
       "      <th>4</th>\n",
       "      <td>0.602532</td>\n",
       "      <td>0.378708</td>\n",
       "      <td>1</td>\n",
       "    </tr>\n",
       "  </tbody>\n",
       "</table>\n",
       "</div>"
      ],
      "text/plain": [
       "         x0        x1  y\n",
       "0  0.747324  0.292717  1\n",
       "1  0.216078  0.669079  0\n",
       "2  0.508123  0.297349  1\n",
       "3  0.252083  0.681434  0\n",
       "4  0.602532  0.378708  1"
      ]
     },
     "execution_count": 4,
     "metadata": {},
     "output_type": "execute_result"
    }
   ],
   "source": [
    "dataset.head()"
   ]
  },
  {
   "cell_type": "markdown",
   "metadata": {},
   "source": [
    "データセットをプロットします"
   ]
  },
  {
   "cell_type": "code",
   "execution_count": 5,
   "metadata": {},
   "outputs": [
    {
     "data": {
      "image/png": "[encoded data removed]",
      "text/plain": [
       "<matplotlib.figure.Figure at 0x113fe70d0>"
      ]
     },
     "metadata": {},
     "output_type": "display_data"
    }
   ],
   "source": [
    "def plot_dataset(dataset):\n",
    "    fig, ax = plt.subplots()\n",
    "    for key, g in dataset.groupby('y'):\n",
    "        color = 'k' if key == 1 else 'w'\n",
    "        g.plot(ax=ax, kind='scatter', x='x0', y='x1',\n",
    "               label=key, color=color,\n",
    "               edgecolor='black', linewidth='1')\n",
    "\n",
    "\n",
    "plot_dataset(dataset)"
   ]
  },
  {
   "cell_type": "markdown",
   "metadata": {},
   "source": [
    "補助線を引いて識別境界を作ります"
   ]
  },
  {
   "cell_type": "code",
   "execution_count": 6,
   "metadata": {},
   "outputs": [
    {
     "data": {
      "image/png": "[encoded data removed]",
      "text/plain": [
       "<matplotlib.figure.Figure at 0x1140ece90>"
      ]
     },
     "metadata": {},
     "output_type": "display_data"
    }
   ],
   "source": [
    "def plot_boundary(m, n):\n",
    "    x = np.arange(0.0, 1.0, 0.1)\n",
    "    y = eval('%f*x' % (-m / (n + 1e-6)))\n",
    "    plt.plot(x, y)\n",
    "\n",
    "\n",
    "plot_dataset(dataset)\n",
    "plot_boundary(-1, 1)"
   ]
  },
  {
   "cell_type": "markdown",
   "metadata": {},
   "source": [
    "識別境界の直線を基に、データを識別します"
   ]
  },
  {
   "cell_type": "code",
   "execution_count": 7,
   "metadata": {
    "scrolled": false
   },
   "outputs": [
    {
     "name": "stdout",
     "output_type": "stream",
     "text": [
      "[1 0 1 0 1 0 1 1 0 0 0 1 0 1 1 1 0 1 1 1 0 1 1 1 1 0 0 0 1 0 1 0 0 1 0 0 1\n",
      " 0 1 1 1 0 0 0 1 1 1 0 1 0 1 0 1 1 0 1 1 1 0 1 1 0 1 1 1 0 1 1 1 1 1 1 0 1\n",
      " 0 1 0 0 0 1 0 0 0 1 0 1 0 0 0 0 0 0 0 0 0 0 0 0 1 0]\n",
      "[1 0 1 0 1 0 1 1 0 0 0 1 0 1 1 1 0 1 1 1 0 1 1 1 1 0 0 0 1 0 1 0 0 1 0 0 1\n",
      " 0 1 1 1 0 0 0 1 1 1 0 1 0 1 0 1 1 0 1 1 1 0 1 1 0 1 1 1 0 1 1 1 1 1 1 0 1\n",
      " 0 1 0 0 0 1 0 0 0 1 0 1 0 0 0 0 0 0 0 0 0 0 0 0 1 0]\n",
      "Accuracy:1.000000\n"
     ]
    }
   ],
   "source": [
    "def predict(x0, x1):\n",
    "    # 三項演算子、lambda等でよりシンプルに書くこともできる\n",
    "    if x0 < x1:\n",
    "        y = 0\n",
    "    else:  # x0 >= x1\n",
    "        y = 1\n",
    "    return y\n",
    "\n",
    "\n",
    "pred = dataset.apply(lambda X: predict(X.x0, X.x1), axis=1)\n",
    "label = dataset.y\n",
    "print(pred.values)\n",
    "print(label.values)\n",
    "print(\"Accuracy:%f\" % ((pred == label).count() / float(label.count())))"
   ]
  },
  {
   "cell_type": "markdown",
   "metadata": {},
   "source": [
    "別のデータセットを作成します"
   ]
  },
  {
   "cell_type": "code",
   "execution_count": 8,
   "metadata": {},
   "outputs": [
    {
     "data": {
      "text/html": [
       "<div>\n",
       "<table border=\"1\" class=\"dataframe\">\n",
       "  <thead>\n",
       "    <tr style=\"text-align: right;\">\n",
       "      <th></th>\n",
       "      <th>x0</th>\n",
       "      <th>x1</th>\n",
       "      <th>y</th>\n",
       "    </tr>\n",
       "  </thead>\n",
       "  <tbody>\n",
       "    <tr>\n",
       "      <th>0</th>\n",
       "      <td>0.447324</td>\n",
       "      <td>0.292717</td>\n",
       "      <td>1</td>\n",
       "    </tr>\n",
       "    <tr>\n",
       "      <th>1</th>\n",
       "      <td>0.516078</td>\n",
       "      <td>0.669079</td>\n",
       "      <td>0</td>\n",
       "    </tr>\n",
       "    <tr>\n",
       "      <th>2</th>\n",
       "      <td>0.208123</td>\n",
       "      <td>0.297349</td>\n",
       "      <td>1</td>\n",
       "    </tr>\n",
       "    <tr>\n",
       "      <th>3</th>\n",
       "      <td>0.552083</td>\n",
       "      <td>0.681434</td>\n",
       "      <td>0</td>\n",
       "    </tr>\n",
       "    <tr>\n",
       "      <th>4</th>\n",
       "      <td>0.302532</td>\n",
       "      <td>0.378708</td>\n",
       "      <td>1</td>\n",
       "    </tr>\n",
       "  </tbody>\n",
       "</table>\n",
       "</div>"
      ],
      "text/plain": [
       "         x0        x1  y\n",
       "0  0.447324  0.292717  1\n",
       "1  0.516078  0.669079  0\n",
       "2  0.208123  0.297349  1\n",
       "3  0.552083  0.681434  0\n",
       "4  0.302532  0.378708  1"
      ]
     },
     "execution_count": 8,
     "metadata": {},
     "output_type": "execute_result"
    }
   ],
   "source": [
    "X_dataset, y_dataset = make_blobs(centers=[[0.6, 0.7], [0.4, 0.3]],\n",
    "                                  cluster_std=0.1,\n",
    "                                  center_box=(0.0, 1.0),\n",
    "                                  random_state=42)\n",
    "dataset = pd.DataFrame(X_dataset, columns=['x0', 'x1'])\n",
    "dataset['y'] = y_dataset\n",
    "\n",
    "dataset.head()"
   ]
  },
  {
   "cell_type": "code",
   "execution_count": 9,
   "metadata": {},
   "outputs": [
    {
     "name": "stdout",
     "output_type": "stream",
     "text": [
      "[1 0 1 0 1 0 1 1 0 0 0 1 0 1 1 1 0 1 1 1 0 1 1 1 1 0 0 0 1 0 1 0 0 1 0 0 1\n",
      " 0 1 1 1 0 0 0 1 1 1 0 1 0 1 0 1 1 0 1 1 1 0 1 1 0 1 1 1 0 1 1 1 1 1 1 0 1\n",
      " 0 1 0 0 0 1 0 0 0 1 0 1 0 0 0 0 0 0 0 0 0 0 0 0 1 0]\n",
      "[1 0 1 0 1 0 1 1 0 0 0 1 0 1 1 1 0 1 1 1 0 1 1 1 1 0 0 0 1 0 1 0 0 1 0 0 1\n",
      " 0 1 1 1 0 0 0 1 1 1 0 1 0 1 0 1 1 0 1 1 1 0 1 1 0 1 1 1 0 1 1 1 1 1 1 0 1\n",
      " 0 1 0 0 0 1 0 0 0 1 0 1 0 0 0 0 0 0 0 0 0 0 0 0 1 0]\n",
      "Accuracy:1.000000\n"
     ]
    }
   ],
   "source": [
    "def predict(x0, x1):\n",
    "\n",
    "    if x1 > -0.8 * x0 + 0.92:\n",
    "        y = 0\n",
    "    else:  # x1 <= -0.8*x0+0.92\n",
    "        y = 1\n",
    "    return y\n",
    "\n",
    "\n",
    "pred = dataset.apply(lambda X: predict(X.x0, X.x1), axis=1)\n",
    "label = dataset.y\n",
    "cor = (pred == label)\n",
    "print(pred.values)\n",
    "print(label.values)\n",
    "print(\"Accuracy:%f\" % (cor[cor == True].count() / float(label.count())))"
   ]
  },
  {
   "cell_type": "code",
   "execution_count": 10,
   "metadata": {},
   "outputs": [
    {
     "data": {
      "text/plain": [
       "100"
      ]
     },
     "execution_count": 10,
     "metadata": {},
     "output_type": "execute_result"
    }
   ],
   "source": [
    "cor[cor == True].count()"
   ]
  }
 ],
 "metadata": {
  "kernelspec": {
   "display_name": "Python 2",
   "language": "python",
   "name": "python2"
  },
  "language_info": {
   "codemirror_mode": {
    "name": "ipython",
    "version": 2
   },
   "file_extension": ".py",
   "mimetype": "text/x-python",
   "name": "python",
   "nbconvert_exporter": "python",
   "pygments_lexer": "ipython2",
   "version": "2.7.10"
  }
 },
 "nbformat": 4,
 "nbformat_minor": 2
}
