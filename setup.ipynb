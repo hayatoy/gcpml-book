{
 "cells": [
  {
   "cell_type": "markdown",
   "metadata": {},
   "source": [
    "## Datalab 初期設定"
   ]
  },
  {
   "cell_type": "markdown",
   "metadata": {},
   "source": [
    "機械学習関連ライブラリのアップデートをスタートアップスクリプトに追加します。\n",
    "次のセルを実行してください。"
   ]
  },
  {
   "cell_type": "code",
   "execution_count": null,
   "metadata": {
    "collapsed": true
   },
   "outputs": [],
   "source": [
    "%%bash\n",
    "echo \"pip install --upgrade google-cloud-vision==0.27.0\" >> /content/datalab/.config/startup.sh\n",
    "echo \"pip install --upgrade google-cloud-translate==0.25.0\" >> /content/datalab/.config/startup.sh\n",
    "echo \"pip install --upgrade google-cloud-language==0.28.0\" >> /content/datalab/.config/startup.sh\n",
    "cat /content/datalab/.config/startup.sh"
   ]
  },
  {
   "cell_type": "markdown",
   "metadata": {},
   "source": [
    "上記セルを実行したら、Datalabのインスタンスを再起動します。\n",
    "  \n",
    "- Cloud Consoleの[VMインスタンスのページ](https://console.cloud.google.com/compute/instances)から、Datalabのインスタンスにチェックを入れます\n",
    "- 画面上部の「リセット」をクリックします\n"
   ]
  }
 ],
 "metadata": {
  "kernelspec": {
   "display_name": "Python 2",
   "language": "python",
   "name": "python2"
  },
  "language_info": {
   "codemirror_mode": {
    "name": "ipython",
    "version": 2
   },
   "file_extension": ".py",
   "mimetype": "text/x-python",
   "name": "python",
   "nbconvert_exporter": "python",
   "pygments_lexer": "ipython2",
   "version": "2.7.10"
  }
 },
 "nbformat": 4,
 "nbformat_minor": 2
}
