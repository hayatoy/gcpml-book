{
 "cells": [
  {
   "cell_type": "markdown",
   "metadata": {},
   "source": [
    "## Chapter8.2 畳み込み層"
   ]
  },
  {
   "cell_type": "code",
   "execution_count": 1,
   "metadata": {
    "collapsed": true
   },
   "outputs": [],
   "source": [
    "# パッケージの読み込み\n",
    "import tensorflow as tf\n",
    "import numpy as np\n",
    "import pandas as pd\n",
    "import matplotlib.pyplot as plt"
   ]
  },
  {
   "cell_type": "code",
   "execution_count": 2,
   "metadata": {},
   "outputs": [
    {
     "name": "stdout",
     "output_type": "stream",
     "text": [
      "Extracting ./mnist/train-images-idx3-ubyte.gz\n",
      "Extracting ./mnist/train-labels-idx1-ubyte.gz\n",
      "Extracting ./mnist/t10k-images-idx3-ubyte.gz\n",
      "Extracting ./mnist/t10k-labels-idx1-ubyte.gz\n"
     ]
    }
   ],
   "source": [
    "# MNISTデータセットの読み込み\n",
    "from tensorflow.examples.tutorials.mnist import input_data\n",
    "mnist = input_data.read_data_sets(\"./mnist/\")"
   ]
  },
  {
   "cell_type": "code",
   "execution_count": 3,
   "metadata": {},
   "outputs": [
    {
     "data": {
      "text/plain": [
       "(-0.5, 27.5, 27.5, -0.5)"
      ]
     },
     "execution_count": 3,
     "metadata": {},
     "output_type": "execute_result"
    },
    {
     "data": {
      "text/plain": [
       "<matplotlib.figure.Figure at 0x112ad71d0>"
      ]
     },
     "metadata": {},
     "output_type": "display_data"
    },
    {
     "data": {
      "image/png": "[encoded data removed]",
      "text/plain": [
       "<matplotlib.figure.Figure at 0x112ad7250>"
      ]
     },
     "metadata": {},
     "output_type": "display_data"
    }
   ],
   "source": [
    "# ラベル1の入力画像 28x28配列 \n",
    "img_in = mnist.test.images[3906].reshape(28, 28)\n",
    "\n",
    "# 3x3フィルタ\n",
    "filt = [[-1, -2, -1],\n",
    "        [ 0,  0,  0],\n",
    "        [ 1,  2,  1]]\n",
    "\n",
    "# 画像にフィルタを適用\n",
    "def apply_filter(img, filt):\n",
    "    # 全て0の28x28配列\n",
    "    img_out = np.zeros((28, 28))\n",
    "    # 注目する画素を左上から順に走査\n",
    "    for y in range(1, 27):\n",
    "        for x in range(1, 27):\n",
    "            # 座標(x, y)の周辺3x3領域\n",
    "            im = img[y - 1:y + 2, x - 1:x + 2]\n",
    "            # フィルタ処理結果をimg_outに格納\n",
    "            img_out[y, x] = np.multiply(filt, im).sum()\n",
    "    return img_out\n",
    "\n",
    "img = apply_filter(img_in, filt)\n",
    "\n",
    "# 結果を描画\n",
    "plt.gray()\n",
    "plt.matshow(img)\n",
    "plt.axis('off')"
   ]
  },
  {
   "cell_type": "markdown",
   "metadata": {},
   "source": [
    "TensorFlowでフィルタ係数の掛け算"
   ]
  },
  {
   "cell_type": "code",
   "execution_count": 4,
   "metadata": {},
   "outputs": [
    {
     "name": "stdout",
     "output_type": "stream",
     "text": [
      "[[24]]\n"
     ]
    }
   ],
   "source": [
    "with tf.Graph().as_default():\n",
    "    x = tf.constant([[1, 2, 3],\n",
    "                     [4, 5, 6],\n",
    "                     [7, 8, 9]], shape=[1, 9])\n",
    "\n",
    "    w = tf.constant([[-1, -2, -1],\n",
    "                     [0, 0, 0],\n",
    "                     [1, 2, 1]], shape=[9, 1])\n",
    "\n",
    "    op = tf.matmul(x, w)\n",
    "\n",
    "    with tf.Session() as sess:\n",
    "        sess.run(tf.global_variables_initializer())\n",
    "        result = sess.run(op)\n",
    "print(result)  # -> [[24]]"
   ]
  }
 ],
 "metadata": {
  "kernelspec": {
   "display_name": "Python 2",
   "language": "python",
   "name": "python2"
  },
  "language_info": {
   "codemirror_mode": {
    "name": "ipython",
    "version": 2
   },
   "file_extension": ".py",
   "mimetype": "text/x-python",
   "name": "python",
   "nbconvert_exporter": "python",
   "pygments_lexer": "ipython2",
   "version": "2.7.10"
  }
 },
 "nbformat": 4,
 "nbformat_minor": 2
}
