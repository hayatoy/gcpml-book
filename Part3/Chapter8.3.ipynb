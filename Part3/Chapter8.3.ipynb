{
 "cells": [
  {
   "cell_type": "markdown",
   "metadata": {},
   "source": [
    "## Chapter8.3 畳み込み演算の種類とプーリング層"
   ]
  },
  {
   "cell_type": "code",
   "execution_count": 1,
   "metadata": {
    "collapsed": true
   },
   "outputs": [],
   "source": [
    "# パッケージの読み込み\n",
    "import tensorflow as tf\n",
    "import numpy as np\n",
    "import matplotlib.pyplot as plt"
   ]
  },
  {
   "cell_type": "code",
   "execution_count": 2,
   "metadata": {},
   "outputs": [
    {
     "name": "stdout",
     "output_type": "stream",
     "text": [
      "Extracting ./mnist/train-images-idx3-ubyte.gz\n",
      "Extracting ./mnist/train-labels-idx1-ubyte.gz\n",
      "Extracting ./mnist/t10k-images-idx3-ubyte.gz\n",
      "Extracting ./mnist/t10k-labels-idx1-ubyte.gz\n"
     ]
    }
   ],
   "source": [
    "# MNISTデータセットの読み込み\n",
    "from tensorflow.examples.tutorials.mnist import input_data\n",
    "mnist = input_data.read_data_sets(\"./mnist/\")"
   ]
  },
  {
   "cell_type": "code",
   "execution_count": 3,
   "metadata": {},
   "outputs": [
    {
     "data": {
      "text/plain": [
       "<matplotlib.image.AxesImage at 0x10f8f1710>"
      ]
     },
     "execution_count": 3,
     "metadata": {},
     "output_type": "execute_result"
    },
    {
     "data": {
      "text/plain": [
       "<matplotlib.figure.Figure at 0x1138e2450>"
      ]
     },
     "metadata": {},
     "output_type": "display_data"
    },
    {
     "data": {
      "image/png": "[encoded data removed]",
      "text/plain": [
       "<matplotlib.figure.Figure at 0x11d253910>"
      ]
     },
     "metadata": {},
     "output_type": "display_data"
    }
   ],
   "source": [
    "# ラベル1の入力画像\n",
    "img_in = mnist.test.images[3906]\n",
    "\n",
    "plt.gray()\n",
    "plt.matshow(img_in.reshape(28, 28))"
   ]
  },
  {
   "cell_type": "code",
   "execution_count": 4,
   "metadata": {},
   "outputs": [
    {
     "data": {
      "text/plain": [
       "<matplotlib.image.AxesImage at 0x11d9a5f10>"
      ]
     },
     "execution_count": 4,
     "metadata": {},
     "output_type": "execute_result"
    },
    {
     "data": {
      "image/png": "[encoded data removed]",
      "text/plain": [
       "<matplotlib.figure.Figure at 0x11d8c16d0>"
      ]
     },
     "metadata": {},
     "output_type": "display_data"
    }
   ],
   "source": [
    "with tf.Graph().as_default():\n",
    "    x = tf.placeholder(tf.float32, shape=[784])\n",
    "    x_image = tf.reshape(x, shape=[-1, 28, 28, 1])  # バッチ数、高さ、幅、チャネル数\n",
    "\n",
    "    # フィルタとしての重みを定義\n",
    "    # shapeは[高さ、幅、入力チャネル数、出力チャネル数]\n",
    "    w = tf.constant([[1, 0, -1],\n",
    "                     [2, 0, -2],\n",
    "                     [1, 0, -1]], dtype=tf.float32, shape=[3, 3, 1, 1])\n",
    "    # 畳み込み層\n",
    "    # stridesは[バッチ、高さ、幅、チャネル]方向の歩幅\n",
    "    conv = tf.nn.conv2d(x_image, w, strides=[1, 1, 1, 1], padding='SAME')\n",
    "\n",
    "    with tf.Session() as sess:\n",
    "        sess.run(tf.global_variables_initializer())\n",
    "        result = sess.run(conv, feed_dict={x: img_in})\n",
    "\n",
    "# 畳み込み層の出力を可視化\n",
    "plt.matshow(result.reshape(28, 28))"
   ]
  },
  {
   "cell_type": "code",
   "execution_count": 5,
   "metadata": {},
   "outputs": [
    {
     "data": {
      "text/plain": [
       "<matplotlib.image.AxesImage at 0x11daef050>"
      ]
     },
     "execution_count": 5,
     "metadata": {},
     "output_type": "execute_result"
    },
    {
     "data": {
      "image/png": "[encoded data removed]",
      "text/plain": [
       "<matplotlib.figure.Figure at 0x11d964050>"
      ]
     },
     "metadata": {},
     "output_type": "display_data"
    }
   ],
   "source": [
    "with tf.Graph().as_default():\n",
    "    x = tf.placeholder(tf.float32, shape=[784])\n",
    "    x_image = tf.reshape(x, shape=[-1, 28, 28, 1])  # バッチ数、高さ、幅、チャネル数\n",
    "\n",
    "    # フィルタとしての重みを定義\n",
    "    # shapeは[高さ、幅、入力チャネル数、出力チャネル数]\n",
    "    w = tf.constant([[1, 0, -1],\n",
    "                     [2, 0, -2],\n",
    "                     [1, 0, -1]], dtype=tf.float32, shape=[3, 3, 1, 1])\n",
    "    # 畳み込み層\n",
    "    # stridesは[バッチ、高さ、幅、チャネル]方向の歩幅\n",
    "    conv = tf.nn.conv2d(x_image, w, strides=[1, 1, 1, 1], padding='SAME')\n",
    "\n",
    "    # プーリング層\n",
    "    pool = tf.nn.max_pool(conv, ksize=[1, 2, 2, 1], strides=[1, 2, 2, 1],\n",
    "                          padding='SAME')\n",
    "    with tf.Session() as sess:\n",
    "        sess.run(tf.global_variables_initializer())\n",
    "        result = sess.run(pool, feed_dict={x: img_in})\n",
    "\n",
    "# 畳み込み層の出力を可視化\n",
    "plt.matshow(result.reshape(14, 14))"
   ]
  }
 ],
 "metadata": {
  "kernelspec": {
   "display_name": "Python 2",
   "language": "python",
   "name": "python2"
  },
  "language_info": {
   "codemirror_mode": {
    "name": "ipython",
    "version": 2
   },
   "file_extension": ".py",
   "mimetype": "text/x-python",
   "name": "python",
   "nbconvert_exporter": "python",
   "pygments_lexer": "ipython2",
   "version": "2.7.10"
  }
 },
 "nbformat": 4,
 "nbformat_minor": 2
}
