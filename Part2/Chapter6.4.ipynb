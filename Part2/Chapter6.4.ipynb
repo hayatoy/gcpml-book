{
 "cells": [
  {
   "cell_type": "markdown",
   "metadata": {},
   "source": [
    "## Chapter6.4 パラメータチューニング"
   ]
  },
  {
   "cell_type": "code",
   "execution_count": 1,
   "metadata": {
    "collapsed": true
   },
   "outputs": [],
   "source": [
    "import numpy as np\n",
    "import pandas as pd\n",
    "import matplotlib.pyplot as plt"
   ]
  },
  {
   "cell_type": "markdown",
   "metadata": {},
   "source": [
    "乳がんのデータセットを学習・推論する\n",
    "<font color=\"red\">**PROJECTID**を書き換えて実行してください</font>"
   ]
  },
  {
   "cell_type": "code",
   "execution_count": 2,
   "metadata": {},
   "outputs": [
    {
     "name": "stdout",
     "output_type": "stream",
     "text": [
      "Requesting query... ok.\n",
      "Query running...\n",
      "Query done.\n",
      "Cache hit.\n",
      "\n",
      "Retrieving results...\n",
      "Got 569 rows.\n",
      "\n",
      "Total time taken 1.89 s.\n",
      "Finished at 2017-09-26 22:17:03.\n"
     ]
    },
    {
     "data": {
      "text/plain": [
       "0.94736842105263153"
      ]
     },
     "execution_count": 2,
     "metadata": {},
     "output_type": "execute_result"
    }
   ],
   "source": [
    "import pandas as pd\n",
    "from sklearn.model_selection import train_test_split\n",
    "from sklearn.preprocessing import MinMaxScaler\n",
    "from sklearn.svm import SVC\n",
    "\n",
    "# BigQueryクエリ結果をDataFrameに読み込む\n",
    "query = 'SELECT * FROM testdataset.wdbc ORDER BY index'\n",
    "dataset = pd.read_gbq(project_id='PROJECTID', query=query)\n",
    "\n",
    "# 'M'を0, 'B'を1に変換\n",
    "dataset['diagnostic'] = dataset['diagnostic'].apply(\n",
    "    lambda x: 0 if x == 'M' else 1)\n",
    "\n",
    "# 'index'カラムを削除\n",
    "dataset.drop('index', axis=1, inplace=True)\n",
    "\n",
    "# DataFrameからarrayに変換\n",
    "X_dataset = dataset.drop('diagnostic', axis=1).as_matrix()\n",
    "y_dataset = dataset.diagnostic.as_matrix()\n",
    "\n",
    "# 学習用とテスト用にデータセットを分ける\n",
    "X_train, X_test, y_train, y_test = train_test_split(\n",
    "    X_dataset, y_dataset, test_size=0.2, random_state=42)\n",
    "\n",
    "\n",
    "# 最大値が1、最小値が0になるよう各特徴量をスケールする\n",
    "scaler = MinMaxScaler()\n",
    "X_train = scaler.fit_transform(X_train)\n",
    "X_test = scaler.transform(X_test)\n",
    "\n",
    "# 学習と推論を行う\n",
    "classifier = SVC()\n",
    "classifier.fit(X_train, y_train)\n",
    "classifier.score(X_test, y_test)"
   ]
  },
  {
   "cell_type": "markdown",
   "metadata": {},
   "source": [
    "グリッドサーチ"
   ]
  },
  {
   "cell_type": "code",
   "execution_count": 3,
   "metadata": {},
   "outputs": [
    {
     "data": {
      "text/plain": [
       "0.98245614035087714"
      ]
     },
     "execution_count": 3,
     "metadata": {},
     "output_type": "execute_result"
    }
   ],
   "source": [
    "from sklearn.model_selection import GridSearchCV\n",
    "\n",
    "# グリッドパラメータを定義\n",
    "params = {'C': [0.1, 1.0, 10.0],\n",
    "          'gamma': [0.1, 0.5, 1.0]\n",
    "         }\n",
    "\n",
    "# 識別器のインスタンスとグリッドパラメータを渡す\n",
    "gs = GridSearchCV(classifier, params)\n",
    "\n",
    "# グリッドサーチ実行\n",
    "gs.fit(X_train, y_train)\n",
    "\n",
    "# 最も性能のよかったパラメータでテスト\n",
    "gs.score(X_test, y_test)"
   ]
  },
  {
   "cell_type": "markdown",
   "metadata": {},
   "source": [
    "グリッドサーチした結果それぞれの正解率を表示"
   ]
  },
  {
   "cell_type": "code",
   "execution_count": 4,
   "metadata": {},
   "outputs": [
    {
     "name": "stderr",
     "output_type": "stream",
     "text": [
      "/Library/Python/2.7/site-packages/sklearn/model_selection/_search.py:662: DeprecationWarning: The grid_scores_ attribute was deprecated in version 0.18 in favor of the more elaborate cv_results_ attribute. The grid_scores_ attribute will not be available from 0.20\n",
      "  DeprecationWarning)\n"
     ]
    },
    {
     "data": {
      "text/plain": [
       "[mean: 0.88571, std: 0.02019, params: {'C': 0.1, 'gamma': 0.1},\n",
       " mean: 0.94725, std: 0.00509, params: {'C': 0.1, 'gamma': 0.5},\n",
       " mean: 0.95604, std: 0.00845, params: {'C': 0.1, 'gamma': 1.0},\n",
       " mean: 0.95824, std: 0.00325, params: {'C': 1.0, 'gamma': 0.1},\n",
       " mean: 0.97582, std: 0.00631, params: {'C': 1.0, 'gamma': 0.5},\n",
       " mean: 0.97582, std: 0.01131, params: {'C': 1.0, 'gamma': 1.0},\n",
       " mean: 0.97582, std: 0.00631, params: {'C': 10.0, 'gamma': 0.1},\n",
       " mean: 0.97582, std: 0.00834, params: {'C': 10.0, 'gamma': 0.5},\n",
       " mean: 0.97802, std: 0.00832, params: {'C': 10.0, 'gamma': 1.0}]"
      ]
     },
     "execution_count": 4,
     "metadata": {},
     "output_type": "execute_result"
    }
   ],
   "source": [
    "gs.grid_scores_"
   ]
  },
  {
   "cell_type": "markdown",
   "metadata": {},
   "source": [
    "最も良かったパラメータ"
   ]
  },
  {
   "cell_type": "code",
   "execution_count": 5,
   "metadata": {},
   "outputs": [
    {
     "data": {
      "text/plain": [
       "{'C': 10.0, 'gamma': 1.0}"
      ]
     },
     "execution_count": 5,
     "metadata": {},
     "output_type": "execute_result"
    }
   ],
   "source": [
    "gs.best_params_"
   ]
  },
  {
   "cell_type": "markdown",
   "metadata": {},
   "source": [
    "さらに細かくパラメータを探索する"
   ]
  },
  {
   "cell_type": "code",
   "execution_count": 6,
   "metadata": {},
   "outputs": [
    {
     "data": {
      "text/plain": [
       "0.99122807017543857"
      ]
     },
     "execution_count": 6,
     "metadata": {},
     "output_type": "execute_result"
    }
   ],
   "source": [
    "params = {'C': np.arange(5, 50, 5),\n",
    "          'gamma': np.arange(0.01, 1.0, 0.1)\n",
    "          }\n",
    "\n",
    "# 識別器のインスタンスとグリッドパラメータを渡す\n",
    "gs = GridSearchCV(classifier, params)\n",
    "\n",
    "# グリッドサーチ実行\n",
    "gs.fit(X_train, y_train)\n",
    "\n",
    "# 最も性能のよかったパラメータでテスト\n",
    "gs.score(X_test, y_test)"
   ]
  },
  {
   "cell_type": "markdown",
   "metadata": {},
   "source": [
    "結果はDataFrameに変換して表示することもできる"
   ]
  },
  {
   "cell_type": "code",
   "execution_count": 7,
   "metadata": {
    "scrolled": false
   },
   "outputs": [
    {
     "data": {
      "text/html": [
       "<div>\n",
       "<table border=\"1\" class=\"dataframe\">\n",
       "  <thead>\n",
       "    <tr style=\"text-align: right;\">\n",
       "      <th></th>\n",
       "      <th>mean_fit_time</th>\n",
       "      <th>mean_score_time</th>\n",
       "      <th>mean_test_score</th>\n",
       "      <th>mean_train_score</th>\n",
       "      <th>param_C</th>\n",
       "      <th>param_gamma</th>\n",
       "      <th>params</th>\n",
       "      <th>rank_test_score</th>\n",
       "      <th>split0_test_score</th>\n",
       "      <th>split0_train_score</th>\n",
       "      <th>split1_test_score</th>\n",
       "      <th>split1_train_score</th>\n",
       "      <th>split2_test_score</th>\n",
       "      <th>split2_train_score</th>\n",
       "      <th>std_fit_time</th>\n",
       "      <th>std_score_time</th>\n",
       "      <th>std_test_score</th>\n",
       "      <th>std_train_score</th>\n",
       "    </tr>\n",
       "  </thead>\n",
       "  <tbody>\n",
       "    <tr>\n",
       "      <th>0</th>\n",
       "      <td>0.003755</td>\n",
       "      <td>0.002885</td>\n",
       "      <td>0.951648</td>\n",
       "      <td>0.952742</td>\n",
       "      <td>5</td>\n",
       "      <td>0.01</td>\n",
       "      <td>{u'C': 5, u'gamma': 0.01}</td>\n",
       "      <td>90</td>\n",
       "      <td>0.954248</td>\n",
       "      <td>0.950331</td>\n",
       "      <td>0.953642</td>\n",
       "      <td>0.950658</td>\n",
       "      <td>0.947020</td>\n",
       "      <td>0.957237</td>\n",
       "      <td>0.000297</td>\n",
       "      <td>0.001371</td>\n",
       "      <td>0.003271</td>\n",
       "      <td>0.003181</td>\n",
       "    </tr>\n",
       "    <tr>\n",
       "      <th>1</th>\n",
       "      <td>0.002056</td>\n",
       "      <td>0.001246</td>\n",
       "      <td>0.975824</td>\n",
       "      <td>0.978012</td>\n",
       "      <td>5</td>\n",
       "      <td>0.11</td>\n",
       "      <td>{u'C': 5, u'gamma': 0.11}</td>\n",
       "      <td>9</td>\n",
       "      <td>0.980392</td>\n",
       "      <td>0.973510</td>\n",
       "      <td>0.966887</td>\n",
       "      <td>0.980263</td>\n",
       "      <td>0.980132</td>\n",
       "      <td>0.980263</td>\n",
       "      <td>0.000332</td>\n",
       "      <td>0.000353</td>\n",
       "      <td>0.006299</td>\n",
       "      <td>0.003184</td>\n",
       "    </tr>\n",
       "    <tr>\n",
       "      <th>2</th>\n",
       "      <td>0.001527</td>\n",
       "      <td>0.000816</td>\n",
       "      <td>0.975824</td>\n",
       "      <td>0.981309</td>\n",
       "      <td>5</td>\n",
       "      <td>0.21</td>\n",
       "      <td>{u'C': 5, u'gamma': 0.21}</td>\n",
       "      <td>9</td>\n",
       "      <td>0.980392</td>\n",
       "      <td>0.976821</td>\n",
       "      <td>0.966887</td>\n",
       "      <td>0.980263</td>\n",
       "      <td>0.980132</td>\n",
       "      <td>0.986842</td>\n",
       "      <td>0.000168</td>\n",
       "      <td>0.000326</td>\n",
       "      <td>0.006299</td>\n",
       "      <td>0.004157</td>\n",
       "    </tr>\n",
       "    <tr>\n",
       "      <th>3</th>\n",
       "      <td>0.001287</td>\n",
       "      <td>0.000548</td>\n",
       "      <td>0.975824</td>\n",
       "      <td>0.981309</td>\n",
       "      <td>5</td>\n",
       "      <td>0.31</td>\n",
       "      <td>{u'C': 5, u'gamma': 0.31}</td>\n",
       "      <td>9</td>\n",
       "      <td>0.980392</td>\n",
       "      <td>0.976821</td>\n",
       "      <td>0.966887</td>\n",
       "      <td>0.980263</td>\n",
       "      <td>0.980132</td>\n",
       "      <td>0.986842</td>\n",
       "      <td>0.000066</td>\n",
       "      <td>0.000024</td>\n",
       "      <td>0.006299</td>\n",
       "      <td>0.004157</td>\n",
       "    </tr>\n",
       "    <tr>\n",
       "      <th>4</th>\n",
       "      <td>0.001320</td>\n",
       "      <td>0.000651</td>\n",
       "      <td>0.973626</td>\n",
       "      <td>0.983502</td>\n",
       "      <td>5</td>\n",
       "      <td>0.41</td>\n",
       "      <td>{u'C': 5, u'gamma': 0.41}</td>\n",
       "      <td>24</td>\n",
       "      <td>0.980392</td>\n",
       "      <td>0.976821</td>\n",
       "      <td>0.960265</td>\n",
       "      <td>0.983553</td>\n",
       "      <td>0.980132</td>\n",
       "      <td>0.990132</td>\n",
       "      <td>0.000063</td>\n",
       "      <td>0.000163</td>\n",
       "      <td>0.009417</td>\n",
       "      <td>0.005434</td>\n",
       "    </tr>\n",
       "  </tbody>\n",
       "</table>\n",
       "</div>"
      ],
      "text/plain": [
       "   mean_fit_time  mean_score_time  mean_test_score  mean_train_score param_C  \\\n",
       "0       0.003755         0.002885         0.951648          0.952742       5   \n",
       "1       0.002056         0.001246         0.975824          0.978012       5   \n",
       "2       0.001527         0.000816         0.975824          0.981309       5   \n",
       "3       0.001287         0.000548         0.975824          0.981309       5   \n",
       "4       0.001320         0.000651         0.973626          0.983502       5   \n",
       "\n",
       "  param_gamma                     params  rank_test_score  split0_test_score  \\\n",
       "0        0.01  {u'C': 5, u'gamma': 0.01}               90           0.954248   \n",
       "1        0.11  {u'C': 5, u'gamma': 0.11}                9           0.980392   \n",
       "2        0.21  {u'C': 5, u'gamma': 0.21}                9           0.980392   \n",
       "3        0.31  {u'C': 5, u'gamma': 0.31}                9           0.980392   \n",
       "4        0.41  {u'C': 5, u'gamma': 0.41}               24           0.980392   \n",
       "\n",
       "   split0_train_score  split1_test_score  split1_train_score  \\\n",
       "0            0.950331           0.953642            0.950658   \n",
       "1            0.973510           0.966887            0.980263   \n",
       "2            0.976821           0.966887            0.980263   \n",
       "3            0.976821           0.966887            0.980263   \n",
       "4            0.976821           0.960265            0.983553   \n",
       "\n",
       "   split2_test_score  split2_train_score  std_fit_time  std_score_time  \\\n",
       "0           0.947020            0.957237      0.000297        0.001371   \n",
       "1           0.980132            0.980263      0.000332        0.000353   \n",
       "2           0.980132            0.986842      0.000168        0.000326   \n",
       "3           0.980132            0.986842      0.000066        0.000024   \n",
       "4           0.980132            0.990132      0.000063        0.000163   \n",
       "\n",
       "   std_test_score  std_train_score  \n",
       "0        0.003271         0.003181  \n",
       "1        0.006299         0.003184  \n",
       "2        0.006299         0.004157  \n",
       "3        0.006299         0.004157  \n",
       "4        0.009417         0.005434  "
      ]
     },
     "execution_count": 7,
     "metadata": {},
     "output_type": "execute_result"
    }
   ],
   "source": [
    "pd.DataFrame(gs.cv_results_).head()"
   ]
  },
  {
   "cell_type": "markdown",
   "metadata": {},
   "source": [
    "最も良かったパラメータ"
   ]
  },
  {
   "cell_type": "code",
   "execution_count": 8,
   "metadata": {},
   "outputs": [
    {
     "data": {
      "text/plain": [
       "{'C': 5, 'gamma': 0.71000000000000008}"
      ]
     },
     "execution_count": 8,
     "metadata": {},
     "output_type": "execute_result"
    }
   ],
   "source": [
    "gs.best_params_"
   ]
  },
  {
   "cell_type": "markdown",
   "metadata": {},
   "source": []
  },
  {
   "cell_type": "code",
   "execution_count": 9,
   "metadata": {
    "scrolled": false
   },
   "outputs": [
    {
     "data": {
      "text/plain": [
       "<matplotlib.axes._subplots.AxesSubplot at 0x107831050>"
      ]
     },
     "execution_count": 9,
     "metadata": {},
     "output_type": "execute_result"
    },
    {
     "data": {
      "image/png": "[encoded data removed]",
      "text/plain": [
       "<matplotlib.figure.Figure at 0x107dfc8d0>"
      ]
     },
     "metadata": {},
     "output_type": "display_data"
    }
   ],
   "source": [
    "import seaborn as sns\n",
    "\n",
    "# dictからDataFrameに変換\n",
    "df = pd.DataFrame(gs.cv_results_)\n",
    "\n",
    "# ピボットテーブルでCとgammaの値に対するscoreの行列を作る\n",
    "hm = df.pivot('param_C', 'param_gamma', 'mean_test_score')\n",
    "\n",
    "# ヒートマップをプロット\n",
    "sns.heatmap(hm, annot=True)"
   ]
  },
  {
   "cell_type": "markdown",
   "metadata": {},
   "source": [
    "ランダムサーチ"
   ]
  },
  {
   "cell_type": "code",
   "execution_count": 10,
   "metadata": {},
   "outputs": [
    {
     "data": {
      "text/plain": [
       "0.99122807017543857"
      ]
     },
     "execution_count": 10,
     "metadata": {},
     "output_type": "execute_result"
    }
   ],
   "source": [
    "from sklearn.model_selection import RandomizedSearchCV\n",
    "\n",
    "params = {'C': np.arange(5, 50, 5),\n",
    "          'gamma': np.arange(0.01, 1.0, 0.1)\n",
    "          }\n",
    "\n",
    "# 識別器のインスタンスとグリッドパラメータを渡す\n",
    "rs = RandomizedSearchCV(classifier, params, n_iter=10, random_state=42)\n",
    "\n",
    "# ランダムサーチ実行\n",
    "rs.fit(X_train, y_train)\n",
    "\n",
    "# 最も性能のよかったパラメータでテスト\n",
    "rs.score(X_test, y_test)"
   ]
  },
  {
   "cell_type": "code",
   "execution_count": 11,
   "metadata": {},
   "outputs": [
    {
     "data": {
      "text/plain": [
       "<matplotlib.axes._subplots.AxesSubplot at 0x1076f3650>"
      ]
     },
     "execution_count": 11,
     "metadata": {},
     "output_type": "execute_result"
    },
    {
     "data": {
      "image/png": "[encoded data removed]",
      "text/plain": [
       "<matplotlib.figure.Figure at 0x107caa150>"
      ]
     },
     "metadata": {},
     "output_type": "display_data"
    }
   ],
   "source": [
    "# dictからDataFrameに変換\n",
    "df = pd.DataFrame(rs.cv_results_)\n",
    "\n",
    "# ピボットテーブルでCとgammaの値に対するscoreの行列を作る\n",
    "hm = df.pivot('param_C', 'param_gamma', 'mean_test_score')\n",
    "\n",
    "# ヒートマップをプロット\n",
    "sns.heatmap(hm, annot=True)"
   ]
  }
 ],
 "metadata": {
  "kernelspec": {
   "display_name": "Python 2",
   "language": "python",
   "name": "python2"
  },
  "language_info": {
   "codemirror_mode": {
    "name": "ipython",
    "version": 2
   },
   "file_extension": ".py",
   "mimetype": "text/x-python",
   "name": "python",
   "nbconvert_exporter": "python",
   "pygments_lexer": "ipython2",
   "version": "2.7.10"
  }
 },
 "nbformat": 4,
 "nbformat_minor": 2
}
