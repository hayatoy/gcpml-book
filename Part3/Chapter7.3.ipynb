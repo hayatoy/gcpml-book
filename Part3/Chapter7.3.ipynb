{
 "cells": [
  {
   "cell_type": "markdown",
   "metadata": {},
   "source": [
    "## Chapter7.3 活性化関数"
   ]
  },
  {
   "cell_type": "code",
   "execution_count": 1,
   "metadata": {
    "collapsed": true
   },
   "outputs": [],
   "source": [
    "import numpy as np\n",
    "import pandas as pd\n",
    "import matplotlib.pyplot as plt"
   ]
  },
  {
   "cell_type": "markdown",
   "metadata": {},
   "source": [
    "プロット用関数の定義"
   ]
  },
  {
   "cell_type": "code",
   "execution_count": 3,
   "metadata": {
    "collapsed": true
   },
   "outputs": [],
   "source": [
    "def plot_boundary(levels):\n",
    "    # 0.05刻みのグリッド点を生成する\n",
    "    xx, yy = np.meshgrid(np.arange(-5, 5, 0.05),\n",
    "                         np.arange(-5, 5, 0.05))\n",
    "    # 生成したグリッド点1つ1つを推論をする\n",
    "    Z = predict(np.c_[xx.ravel(), yy.ravel()])\n",
    "\n",
    "    # 描画用に2次元配列に変換\n",
    "    Z = Z.reshape(xx.shape)\n",
    "\n",
    "    # 識別領域を色別に描画\n",
    "    plt.contourf(xx, yy, Z, cmap=plt.cm.Blues, alpha=0.5)\n",
    "    plt.colorbar(ticks=[0, 0.5, 1])\n",
    "\n",
    "    # 識別境界を描画\n",
    "    plt.contour(xx, yy, Z, colors='k', levels=levels, linestyles=['-'])"
   ]
  },
  {
   "cell_type": "markdown",
   "metadata": {},
   "source": [
    "活性化関数を適用したニューラルネットワーク"
   ]
  },
  {
   "cell_type": "code",
   "execution_count": 4,
   "metadata": {
    "collapsed": true
   },
   "outputs": [],
   "source": [
    "def sigmoid(score):\n",
    "    return 1. / (1. + np.exp(-score))\n",
    "\n",
    "\n",
    "def predict(X_dataset):\n",
    "    pred = []\n",
    "    for X in X_dataset:\n",
    "        a11_out = sigmoid(np.dot(w11, X) + b11)\n",
    "        a12_out = sigmoid(np.dot(w12, X) + b12)\n",
    "        a21_out = sigmoid(np.dot(w21, [a11_out, a12_out]) + b21)\n",
    "        pred.append(a21_out)\n",
    "    return np.array(pred, dtype=np.float32)"
   ]
  },
  {
   "cell_type": "code",
   "execution_count": 5,
   "metadata": {},
   "outputs": [
    {
     "data": {
      "image/png": "[encoded data removed]",
      "text/plain": [
       "<matplotlib.figure.Figure at 0x107b08890>"
      ]
     },
     "metadata": {},
     "output_type": "display_data"
    }
   ],
   "source": [
    "# 重みとバイアスを設定\n",
    "w11 = [1.0, 0.0]\n",
    "w12 = [0.0, 1.0]\n",
    "w21 = [1.0, 1.0]\n",
    "b11 = 0.\n",
    "b12 = 0.\n",
    "b21 = -1.5\n",
    "\n",
    "# 識別境界は0.5の値に引く\n",
    "plot_boundary([0.5])"
   ]
  }
 ],
 "metadata": {
  "kernelspec": {
   "display_name": "Python 2",
   "language": "python",
   "name": "python2"
  },
  "language_info": {
   "codemirror_mode": {
    "name": "ipython",
    "version": 2
   },
   "file_extension": ".py",
   "mimetype": "text/x-python",
   "name": "python",
   "nbconvert_exporter": "python",
   "pygments_lexer": "ipython2",
   "version": "2.7.10"
  }
 },
 "nbformat": 4,
 "nbformat_minor": 2
}
