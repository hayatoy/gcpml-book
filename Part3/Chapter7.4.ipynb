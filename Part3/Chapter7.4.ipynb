{
 "cells": [
  {
   "cell_type": "markdown",
   "metadata": {},
   "source": [
    "## Chapter7.4 多クラスの対応"
   ]
  },
  {
   "cell_type": "code",
   "execution_count": 1,
   "metadata": {
    "collapsed": true
   },
   "outputs": [],
   "source": [
    "import numpy as np"
   ]
  },
  {
   "cell_type": "markdown",
   "metadata": {},
   "source": [
    "one-hot-vector"
   ]
  },
  {
   "cell_type": "markdown",
   "metadata": {},
   "source": [
    "1つだけ変換する場合"
   ]
  },
  {
   "cell_type": "code",
   "execution_count": 2,
   "metadata": {},
   "outputs": [
    {
     "data": {
      "text/plain": [
       "2"
      ]
     },
     "execution_count": 2,
     "metadata": {},
     "output_type": "execute_result"
    }
   ],
   "source": [
    "onehot = [0, 0, 1, 0]  # 4クラス、ラベル2\n",
    "label = np.argmax(onehot)\n",
    "label"
   ]
  },
  {
   "cell_type": "markdown",
   "metadata": {},
   "source": [
    "複数変換する場合"
   ]
  },
  {
   "cell_type": "code",
   "execution_count": 3,
   "metadata": {},
   "outputs": [
    {
     "data": {
      "text/plain": [
       "array([0, 2])"
      ]
     },
     "execution_count": 3,
     "metadata": {},
     "output_type": "execute_result"
    }
   ],
   "source": [
    "onehot = [[1, 0, 0, 0],\n",
    "          [0, 0, 1, 0]]\n",
    "labels = np.argmax(onehot, axis=1)\n",
    "labels"
   ]
  },
  {
   "cell_type": "markdown",
   "metadata": {},
   "source": [
    "数値ラベルからone-hot-vectorへ"
   ]
  },
  {
   "cell_type": "code",
   "execution_count": 4,
   "metadata": {},
   "outputs": [
    {
     "data": {
      "text/plain": [
       "array([ 0.,  0.,  1.,  0.])"
      ]
     },
     "execution_count": 4,
     "metadata": {},
     "output_type": "execute_result"
    }
   ],
   "source": [
    "label = 2\n",
    "onehot = np.zeros(4)  # [0, 0, 0, 0]\n",
    "onehot[label] = 1     # [0, 0, 1, 0]\n",
    "onehot"
   ]
  },
  {
   "cell_type": "code",
   "execution_count": 5,
   "metadata": {},
   "outputs": [
    {
     "data": {
      "text/plain": [
       "array([[ 1.,  0.,  0.,  0.],\n",
       "       [ 0.,  0.,  1.,  0.]])"
      ]
     },
     "execution_count": 5,
     "metadata": {},
     "output_type": "execute_result"
    }
   ],
   "source": [
    "from sklearn.preprocessing import OneHotEncoder\n",
    "\n",
    "# クラス数4でエンコーダーを作成\n",
    "enc = OneHotEncoder(n_values=4)\n",
    "\n",
    "labels = [[0],\n",
    "          [2]]\n",
    "\n",
    "# 数値クラスからone-hot-vectorへ変換\n",
    "enc.fit_transform(labels).toarray()"
   ]
  },
  {
   "cell_type": "markdown",
   "metadata": {},
   "source": [
    "ソフトマックス関数"
   ]
  },
  {
   "cell_type": "code",
   "execution_count": 6,
   "metadata": {},
   "outputs": [
    {
     "data": {
      "text/plain": [
       "array([ 0.000000,  0.000000,  0.268941,  0.731059])"
      ]
     },
     "execution_count": 6,
     "metadata": {},
     "output_type": "execute_result"
    }
   ],
   "source": [
    "def softmax(scores):\n",
    "    f = scores\n",
    "    f -= np.max(f)\n",
    "    return np.exp(f) / np.sum(np.exp(f))\n",
    "\n",
    "outputs = np.array([1, 2, 788, 789])  # 出力層の出力（4ユニット）\n",
    "pred = softmax(outputs)\n",
    "\n",
    "# print時のフォーマットを揃える\n",
    "np.set_printoptions(formatter={'float': '{: 0.6f}'.format})\n",
    "pred"
   ]
  },
  {
   "cell_type": "markdown",
   "metadata": {},
   "source": [
    "損失関数"
   ]
  },
  {
   "cell_type": "code",
   "execution_count": 7,
   "metadata": {},
   "outputs": [
    {
     "data": {
      "text/plain": [
       "0.072329261480999996"
      ]
     },
     "execution_count": 7,
     "metadata": {},
     "output_type": "execute_result"
    }
   ],
   "source": [
    "# 平均二乗誤差\n",
    "def mse(pred, label):\n",
    "    return 0.5 * np.sum((pred - label)**2)\n",
    "\n",
    "\n",
    "pred = np.array([0.000000, 0.000000, 0.268941, 0.731059])  # 推論\n",
    "label = np.array([0, 0, 0, 1])  # 正解ラベル\n",
    "\n",
    "mse(pred, label)"
   ]
  },
  {
   "cell_type": "code",
   "execution_count": 8,
   "metadata": {},
   "outputs": [
    {
     "data": {
      "text/plain": [
       "0.31326111113503546"
      ]
     },
     "execution_count": 8,
     "metadata": {},
     "output_type": "execute_result"
    }
   ],
   "source": [
    "def cross_entropy(pred, label):\n",
    "    # np.log(0)は-infとなるので、clipで0にならないよう調整\n",
    "    return -np.sum(label * np.log(pred.clip(1e-6)))\n",
    "\n",
    "\n",
    "pred = np.array([0.000000, 0.000000, 0.268941, 0.731059])  # 推論\n",
    "label = np.array([0, 0, 0, 1])  # 正解ラベル\n",
    "\n",
    "cross_entropy(pred, label)"
   ]
  }
 ],
 "metadata": {
  "kernelspec": {
   "display_name": "Python 2",
   "language": "python",
   "name": "python2"
  },
  "language_info": {
   "codemirror_mode": {
    "name": "ipython",
    "version": 2
   },
   "file_extension": ".py",
   "mimetype": "text/x-python",
   "name": "python",
   "nbconvert_exporter": "python",
   "pygments_lexer": "ipython2",
   "version": "2.7.10"
  }
 },
 "nbformat": 4,
 "nbformat_minor": 2
}
