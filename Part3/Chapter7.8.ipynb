{
 "cells": [
  {
   "cell_type": "markdown",
   "metadata": {},
   "source": [
    "## Chapter7.8 DNNClassifierで簡単学習"
   ]
  },
  {
   "cell_type": "code",
   "execution_count": 1,
   "metadata": {
    "collapsed": true
   },
   "outputs": [],
   "source": [
    "# パッケージの読み込み\n",
    "import tensorflow as tf\n",
    "import numpy as np\n",
    "import pandas as pd"
   ]
  },
  {
   "cell_type": "markdown",
   "metadata": {},
   "source": [
    "データセットの読み込み\n",
    "<font color=\"red\">**PROJECTID**を書き換えて実行してください</font>"
   ]
  },
  {
   "cell_type": "code",
   "execution_count": 2,
   "metadata": {},
   "outputs": [
    {
     "name": "stdout",
     "output_type": "stream",
     "text": [
      "Requesting query... ok.\n",
      "Query running...\n",
      "Query done.\n",
      "Cache hit.\n",
      "\n",
      "Retrieving results...\n",
      "Got 569 rows.\n",
      "\n",
      "Total time taken 1.73 s.\n",
      "Finished at 2017-09-26 23:08:14.\n"
     ]
    },
    {
     "data": {
      "text/html": [
       "<div>\n",
       "<table border=\"1\" class=\"dataframe\">\n",
       "  <thead>\n",
       "    <tr style=\"text-align: right;\">\n",
       "      <th></th>\n",
       "      <th>index</th>\n",
       "      <th>diagnostic</th>\n",
       "      <th>mean_radius</th>\n",
       "      <th>mean_texture</th>\n",
       "      <th>mean_perimeter</th>\n",
       "      <th>mean_area</th>\n",
       "      <th>mean_smoothness</th>\n",
       "      <th>mean_compactness</th>\n",
       "      <th>mean_concavity</th>\n",
       "      <th>mean_concave_points</th>\n",
       "      <th>...</th>\n",
       "      <th>worst_radius</th>\n",
       "      <th>worst_texture</th>\n",
       "      <th>worst_perimeter</th>\n",
       "      <th>worst_area</th>\n",
       "      <th>worst_smoothness</th>\n",
       "      <th>worst_compactness</th>\n",
       "      <th>worst_concavity</th>\n",
       "      <th>worst_concave_points</th>\n",
       "      <th>worst_symmetry</th>\n",
       "      <th>worst_fractal_dimension</th>\n",
       "    </tr>\n",
       "  </thead>\n",
       "  <tbody>\n",
       "    <tr>\n",
       "      <th>0</th>\n",
       "      <td>8670</td>\n",
       "      <td>M</td>\n",
       "      <td>15.46</td>\n",
       "      <td>19.48</td>\n",
       "      <td>101.70</td>\n",
       "      <td>748.9</td>\n",
       "      <td>0.10920</td>\n",
       "      <td>0.12230</td>\n",
       "      <td>0.14660</td>\n",
       "      <td>0.08087</td>\n",
       "      <td>...</td>\n",
       "      <td>19.26</td>\n",
       "      <td>26.00</td>\n",
       "      <td>124.90</td>\n",
       "      <td>1156.0</td>\n",
       "      <td>0.15460</td>\n",
       "      <td>0.2394</td>\n",
       "      <td>0.3791</td>\n",
       "      <td>0.15140</td>\n",
       "      <td>0.2837</td>\n",
       "      <td>0.08019</td>\n",
       "    </tr>\n",
       "    <tr>\n",
       "      <th>1</th>\n",
       "      <td>8913</td>\n",
       "      <td>B</td>\n",
       "      <td>12.89</td>\n",
       "      <td>13.12</td>\n",
       "      <td>81.89</td>\n",
       "      <td>515.9</td>\n",
       "      <td>0.06955</td>\n",
       "      <td>0.03729</td>\n",
       "      <td>0.02260</td>\n",
       "      <td>0.01171</td>\n",
       "      <td>...</td>\n",
       "      <td>13.62</td>\n",
       "      <td>15.54</td>\n",
       "      <td>87.40</td>\n",
       "      <td>577.0</td>\n",
       "      <td>0.09616</td>\n",
       "      <td>0.1147</td>\n",
       "      <td>0.1186</td>\n",
       "      <td>0.05366</td>\n",
       "      <td>0.2309</td>\n",
       "      <td>0.06915</td>\n",
       "    </tr>\n",
       "    <tr>\n",
       "      <th>2</th>\n",
       "      <td>8915</td>\n",
       "      <td>B</td>\n",
       "      <td>14.96</td>\n",
       "      <td>19.10</td>\n",
       "      <td>97.03</td>\n",
       "      <td>687.3</td>\n",
       "      <td>0.08992</td>\n",
       "      <td>0.09823</td>\n",
       "      <td>0.05940</td>\n",
       "      <td>0.04819</td>\n",
       "      <td>...</td>\n",
       "      <td>16.25</td>\n",
       "      <td>26.19</td>\n",
       "      <td>109.10</td>\n",
       "      <td>809.8</td>\n",
       "      <td>0.13130</td>\n",
       "      <td>0.3030</td>\n",
       "      <td>0.1804</td>\n",
       "      <td>0.14890</td>\n",
       "      <td>0.2962</td>\n",
       "      <td>0.08472</td>\n",
       "    </tr>\n",
       "    <tr>\n",
       "      <th>3</th>\n",
       "      <td>9047</td>\n",
       "      <td>B</td>\n",
       "      <td>12.94</td>\n",
       "      <td>16.17</td>\n",
       "      <td>83.18</td>\n",
       "      <td>507.6</td>\n",
       "      <td>0.09879</td>\n",
       "      <td>0.08836</td>\n",
       "      <td>0.03296</td>\n",
       "      <td>0.02390</td>\n",
       "      <td>...</td>\n",
       "      <td>13.86</td>\n",
       "      <td>23.02</td>\n",
       "      <td>89.69</td>\n",
       "      <td>580.9</td>\n",
       "      <td>0.11720</td>\n",
       "      <td>0.1958</td>\n",
       "      <td>0.1810</td>\n",
       "      <td>0.08388</td>\n",
       "      <td>0.3297</td>\n",
       "      <td>0.07834</td>\n",
       "    </tr>\n",
       "    <tr>\n",
       "      <th>4</th>\n",
       "      <td>85715</td>\n",
       "      <td>M</td>\n",
       "      <td>13.17</td>\n",
       "      <td>18.66</td>\n",
       "      <td>85.98</td>\n",
       "      <td>534.6</td>\n",
       "      <td>0.11580</td>\n",
       "      <td>0.12310</td>\n",
       "      <td>0.12260</td>\n",
       "      <td>0.07340</td>\n",
       "      <td>...</td>\n",
       "      <td>15.67</td>\n",
       "      <td>27.95</td>\n",
       "      <td>102.80</td>\n",
       "      <td>759.4</td>\n",
       "      <td>0.17860</td>\n",
       "      <td>0.4166</td>\n",
       "      <td>0.5006</td>\n",
       "      <td>0.20880</td>\n",
       "      <td>0.3900</td>\n",
       "      <td>0.11790</td>\n",
       "    </tr>\n",
       "  </tbody>\n",
       "</table>\n",
       "<p>5 rows × 32 columns</p>\n",
       "</div>"
      ],
      "text/plain": [
       "   index diagnostic  mean_radius  mean_texture  mean_perimeter  mean_area  \\\n",
       "0   8670          M        15.46         19.48          101.70      748.9   \n",
       "1   8913          B        12.89         13.12           81.89      515.9   \n",
       "2   8915          B        14.96         19.10           97.03      687.3   \n",
       "3   9047          B        12.94         16.17           83.18      507.6   \n",
       "4  85715          M        13.17         18.66           85.98      534.6   \n",
       "\n",
       "   mean_smoothness  mean_compactness  mean_concavity  mean_concave_points  \\\n",
       "0          0.10920           0.12230         0.14660              0.08087   \n",
       "1          0.06955           0.03729         0.02260              0.01171   \n",
       "2          0.08992           0.09823         0.05940              0.04819   \n",
       "3          0.09879           0.08836         0.03296              0.02390   \n",
       "4          0.11580           0.12310         0.12260              0.07340   \n",
       "\n",
       "            ...             worst_radius  worst_texture  worst_perimeter  \\\n",
       "0           ...                    19.26          26.00           124.90   \n",
       "1           ...                    13.62          15.54            87.40   \n",
       "2           ...                    16.25          26.19           109.10   \n",
       "3           ...                    13.86          23.02            89.69   \n",
       "4           ...                    15.67          27.95           102.80   \n",
       "\n",
       "   worst_area  worst_smoothness  worst_compactness  worst_concavity  \\\n",
       "0      1156.0           0.15460             0.2394           0.3791   \n",
       "1       577.0           0.09616             0.1147           0.1186   \n",
       "2       809.8           0.13130             0.3030           0.1804   \n",
       "3       580.9           0.11720             0.1958           0.1810   \n",
       "4       759.4           0.17860             0.4166           0.5006   \n",
       "\n",
       "   worst_concave_points  worst_symmetry  worst_fractal_dimension  \n",
       "0               0.15140          0.2837                  0.08019  \n",
       "1               0.05366          0.2309                  0.06915  \n",
       "2               0.14890          0.2962                  0.08472  \n",
       "3               0.08388          0.3297                  0.07834  \n",
       "4               0.20880          0.3900                  0.11790  \n",
       "\n",
       "[5 rows x 32 columns]"
      ]
     },
     "execution_count": 2,
     "metadata": {},
     "output_type": "execute_result"
    }
   ],
   "source": [
    "# BigQueryクエリ結果をDataFrameに読み込む\n",
    "query = 'SELECT * FROM testdataset.wdbc ORDER BY index'\n",
    "dataset = pd.read_gbq(project_id='PROJECTID', query=query)\n",
    "\n",
    "# データの先頭５行を表示\n",
    "dataset.head()"
   ]
  },
  {
   "cell_type": "markdown",
   "metadata": {},
   "source": [
    "データの整理"
   ]
  },
  {
   "cell_type": "code",
   "execution_count": 3,
   "metadata": {
    "collapsed": true
   },
   "outputs": [],
   "source": [
    "from sklearn.preprocessing import MinMaxScaler\n",
    "from sklearn.model_selection import train_test_split\n",
    "\n",
    "# 'M'を0, 'B'を1に変換\n",
    "dataset['diagnostic'] = dataset['diagnostic'].apply(\n",
    "    lambda x: 0 if x == 'M' else 1)\n",
    "\n",
    "# 'index'カラムを削除\n",
    "dataset.drop('index', axis=1, inplace=True)\n",
    "\n",
    "# DataFrameからarrayに変換\n",
    "X_dataset = dataset.drop('diagnostic', axis=1).as_matrix()\n",
    "y_dataset = dataset.diagnostic.as_matrix()\n",
    "\n",
    "# 学習用とテスト用にデータセットを分ける\n",
    "X_train, X_test, y_train, y_test = train_test_split(\n",
    "    X_dataset, y_dataset, test_size=0.2, random_state=42)\n",
    "\n",
    "scaler = MinMaxScaler()\n",
    "X_train = scaler.fit_transform(X_train)\n",
    "X_test = scaler.transform(X_test)"
   ]
  },
  {
   "cell_type": "markdown",
   "metadata": {},
   "source": [
    "DNNClassifierで学習"
   ]
  },
  {
   "cell_type": "code",
   "execution_count": 4,
   "metadata": {},
   "outputs": [
    {
     "name": "stdout",
     "output_type": "stream",
     "text": [
      "INFO:tensorflow:Using default config.\n",
      "INFO:tensorflow:Using config: {'_save_checkpoints_secs': 600, '_num_ps_replicas': 0, '_keep_checkpoint_max': 5, '_tf_random_seed': None, '_task_type': None, '_environment': 'local', '_is_chief': True, '_cluster_spec': <tensorflow.python.training.server_lib.ClusterSpec object at 0x11bd494d0>, '_tf_config': gpu_options {\n",
      "  per_process_gpu_memory_fraction: 1\n",
      "}\n",
      ", '_task_id': 0, '_save_summary_steps': 100, '_save_checkpoints_steps': None, '_evaluation_master': '', '_keep_checkpoint_every_n_hours': 10000, '_master': ''}\n",
      "WARNING:tensorflow:float64 is not supported by many models, consider casting to float32.\n",
      "WARNING:tensorflow:From /Library/Python/2.7/site-packages/tensorflow/contrib/learn/python/learn/estimators/head.py:1362: scalar_summary (from tensorflow.python.ops.logging_ops) is deprecated and will be removed after 2016-11-30.\n",
      "Instructions for updating:\n",
      "Please switch to tf.summary.scalar. Note that tf.summary.scalar uses the node name instead of the tag. This means that TensorFlow will automatically de-duplicate summary names based on the scope they are created in. Also, passing a tensor or list of tags to a scalar summary op is no longer supported.\n",
      "INFO:tensorflow:Create CheckpointSaverHook.\n",
      "INFO:tensorflow:Saving checkpoints for 1 into ./dnnmodel/model.ckpt.\n",
      "INFO:tensorflow:loss = 0.715309, step = 1\n",
      "INFO:tensorflow:global_step/sec: 584.68\n",
      "INFO:tensorflow:loss = 0.441863, step = 101\n",
      "INFO:tensorflow:global_step/sec: 554.65\n",
      "INFO:tensorflow:loss = 0.357983, step = 201\n",
      "INFO:tensorflow:global_step/sec: 428.801\n",
      "INFO:tensorflow:loss = 0.224271, step = 301\n",
      "INFO:tensorflow:global_step/sec: 611.67\n",
      "INFO:tensorflow:loss = 0.220279, step = 401\n",
      "INFO:tensorflow:global_step/sec: 695.421\n",
      "INFO:tensorflow:loss = 0.201178, step = 501\n",
      "INFO:tensorflow:global_step/sec: 677.883\n",
      "INFO:tensorflow:loss = 0.136053, step = 601\n",
      "INFO:tensorflow:global_step/sec: 643.762\n",
      "INFO:tensorflow:loss = 0.163195, step = 701\n",
      "INFO:tensorflow:global_step/sec: 550.731\n",
      "INFO:tensorflow:loss = 0.162185, step = 801\n",
      "INFO:tensorflow:global_step/sec: 438.314\n",
      "INFO:tensorflow:loss = 0.123246, step = 901\n",
      "INFO:tensorflow:Saving checkpoints for 1000 into ./dnnmodel/model.ckpt.\n",
      "INFO:tensorflow:Loss for final step: 0.437501.\n"
     ]
    },
    {
     "data": {
      "text/plain": [
       "SKCompat()"
      ]
     },
     "execution_count": 4,
     "metadata": {},
     "output_type": "execute_result"
    }
   ],
   "source": [
    "from tensorflow.contrib.learn.python import SKCompat\n",
    "\n",
    "# 特徴量の数を定義\n",
    "feature_columns = [tf.contrib.layers.real_valued_column(\"\", dimension=30)]\n",
    "\n",
    "# 隠れ層2つ、それぞれ4ユニット\n",
    "classifier = tf.contrib.learn.DNNClassifier(feature_columns=feature_columns,\n",
    "                                            hidden_units=[4, 4],\n",
    "                                            n_classes=2,\n",
    "                                            model_dir=\"./dnnmodel/\")\n",
    "# scikit-learnライクSKCompatに変換\n",
    "classifier = SKCompat(classifier)\n",
    "\n",
    "# 学習\n",
    "classifier.fit(x=X_train, y=y_train, steps=1000, batch_size=50)"
   ]
  },
  {
   "cell_type": "markdown",
   "metadata": {},
   "source": [
    "テストデータで推論し正解率算出"
   ]
  },
  {
   "cell_type": "code",
   "execution_count": 5,
   "metadata": {},
   "outputs": [
    {
     "name": "stdout",
     "output_type": "stream",
     "text": [
      "WARNING:tensorflow:float64 is not supported by many models, consider casting to float32.\n",
      "WARNING:tensorflow:From /Library/Python/2.7/site-packages/tensorflow/contrib/learn/python/learn/estimators/head.py:1362: scalar_summary (from tensorflow.python.ops.logging_ops) is deprecated and will be removed after 2016-11-30.\n",
      "Instructions for updating:\n",
      "Please switch to tf.summary.scalar. Note that tf.summary.scalar uses the node name instead of the tag. This means that TensorFlow will automatically de-duplicate summary names based on the scope they are created in. Also, passing a tensor or list of tags to a scalar summary op is no longer supported.\n",
      "INFO:tensorflow:Starting evaluation at 2017-09-26-14:08:23\n",
      "INFO:tensorflow:Finished evaluation at 2017-09-26-14:08:24\n",
      "INFO:tensorflow:Saving dict for global step 1000: accuracy = 0.95614, accuracy/baseline_label_mean = 0.596491, accuracy/threshold_0.500000_mean = 0.95614, auc = 0.981458, global_step = 1000, labels/actual_label_mean = 0.596491, labels/prediction_mean = 0.624474, loss = 0.20413, precision/positive_threshold_0.500000_mean = 0.970149, recall/positive_threshold_0.500000_mean = 0.955882\n",
      "WARNING:tensorflow:Skipping summary for global_step, must be a float or np.float32.\n"
     ]
    },
    {
     "data": {
      "text/plain": [
       "{'accuracy': 0.95614034,\n",
       " 'accuracy/baseline_label_mean': 0.59649122,\n",
       " 'accuracy/threshold_0.500000_mean': 0.95614034,\n",
       " 'auc': 0.98145783,\n",
       " 'global_step': 1000,\n",
       " 'labels/actual_label_mean': 0.59649122,\n",
       " 'labels/prediction_mean': 0.62447393,\n",
       " 'loss': 0.20413011,\n",
       " 'precision/positive_threshold_0.500000_mean': 0.97014928,\n",
       " 'recall/positive_threshold_0.500000_mean': 0.95588237}"
      ]
     },
     "execution_count": 5,
     "metadata": {},
     "output_type": "execute_result"
    }
   ],
   "source": [
    "classifier.score(X_test, y_test)"
   ]
  }
 ],
 "metadata": {
  "kernelspec": {
   "display_name": "Python 2",
   "language": "python",
   "name": "python2"
  },
  "language_info": {
   "codemirror_mode": {
    "name": "ipython",
    "version": 2
   },
   "file_extension": ".py",
   "mimetype": "text/x-python",
   "name": "python",
   "nbconvert_exporter": "python",
   "pygments_lexer": "ipython2",
   "version": "2.7.10"
  }
 },
 "nbformat": 4,
 "nbformat_minor": 2
}
