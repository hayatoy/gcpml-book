{
 "cells": [
  {
   "cell_type": "markdown",
   "metadata": {},
   "source": [
    "## Chapter7.2 ニューラルネットワーク"
   ]
  },
  {
   "cell_type": "code",
   "execution_count": 1,
   "metadata": {
    "collapsed": true
   },
   "outputs": [],
   "source": [
    "import numpy as np\n",
    "import pandas as pd\n",
    "import matplotlib.pyplot as plt"
   ]
  },
  {
   "cell_type": "markdown",
   "metadata": {},
   "source": [
    "プロット用関数の定義"
   ]
  },
  {
   "cell_type": "code",
   "execution_count": 2,
   "metadata": {
    "collapsed": true
   },
   "outputs": [],
   "source": [
    "def plot_boundary():\n",
    "    # 0.05刻みのグリッド点を生成する\n",
    "    xx, yy = np.meshgrid(np.arange(-5, 5, 0.05),\n",
    "                         np.arange(-5, 5, 0.05))\n",
    "    # 生成したグリッド点1つ1つを推論をする\n",
    "    Z = predict(np.c_[xx.ravel(), yy.ravel()])\n",
    "\n",
    "    # 描画用に2次元配列に変換\n",
    "    Z = Z.reshape(xx.shape)\n",
    "\n",
    "    # 識別領域を色別に描画\n",
    "    plt.contourf(xx, yy, Z, cmap=plt.cm.Blues, alpha=0.5)\n",
    "    plt.colorbar(ticks=[0, 0.5, 1])\n",
    "\n",
    "    # 識別境界を描画\n",
    "    plt.contour(xx, yy, Z, colors='k', levels=[0], linestyles=['-'])"
   ]
  },
  {
   "cell_type": "markdown",
   "metadata": {},
   "source": [
    "単純パーセプトロン"
   ]
  },
  {
   "cell_type": "code",
   "execution_count": 3,
   "metadata": {
    "collapsed": true
   },
   "outputs": [],
   "source": [
    "# 単純パーセプトロン\n",
    "def predict(X_dataset):\n",
    "    pred = []\n",
    "    for X in X_dataset:\n",
    "        a_out = 1 if (np.dot(w, X) + b) > 0 else 0\n",
    "        pred.append(a_out)\n",
    "    return np.array(pred, dtype=np.float32)"
   ]
  },
  {
   "cell_type": "code",
   "execution_count": 4,
   "metadata": {},
   "outputs": [
    {
     "data": {
      "image/png": "[encoded data removed]",
      "text/plain": [
       "<matplotlib.figure.Figure at 0x10f46fa50>"
      ]
     },
     "metadata": {},
     "output_type": "display_data"
    },
    {
     "data": {
      "text/plain": [
       "<matplotlib.text.Text at 0x1107c0250>"
      ]
     },
     "execution_count": 4,
     "metadata": {},
     "output_type": "execute_result"
    },
    {
     "data": {
      "image/png": "[encoded data removed]",
      "text/plain": [
       "<matplotlib.figure.Figure at 0x110548790>"
      ]
     },
     "metadata": {},
     "output_type": "display_data"
    }
   ],
   "source": [
    "w = [1., 0.]\n",
    "b = 0.\n",
    "\n",
    "plot_boundary()\n",
    "plt.xlabel('x0')\n",
    "plt.ylabel('x1')\n",
    "plt.show()\n",
    "\n",
    "w = [0., 1.]\n",
    "b = 0.\n",
    "\n",
    "plot_boundary()\n",
    "plt.xlabel('x0')\n",
    "plt.ylabel('x1')"
   ]
  },
  {
   "cell_type": "markdown",
   "metadata": {},
   "source": [
    "隠れ層をもつニューラルネットワーク"
   ]
  },
  {
   "cell_type": "code",
   "execution_count": 5,
   "metadata": {
    "collapsed": true
   },
   "outputs": [],
   "source": [
    "# 重みとバイアスを設定\n",
    "w11 = [1., 0.]\n",
    "w12 = [0., 1.]\n",
    "w21 = [1., 1.]\n",
    "b11 = 0.\n",
    "b12 = 0.\n",
    "b21 = -1.5"
   ]
  },
  {
   "cell_type": "code",
   "execution_count": 6,
   "metadata": {
    "collapsed": true
   },
   "outputs": [],
   "source": [
    "def predict(X_dataset):\n",
    "    pred = []\n",
    "    for X in X_dataset:\n",
    "        a11_out = 1 if (np.dot(w11, X) + b11) > 0 else 0\n",
    "        a12_out = 1 if (np.dot(w12, X) + b12) > 0 else 0\n",
    "        a21_out = 1 if (np.dot(w21, [a11_out, a12_out]) + b21) > 0 else 0\n",
    "        pred.append(a21_out)\n",
    "    return np.array(pred, dtype=np.float32)\n"
   ]
  },
  {
   "cell_type": "code",
   "execution_count": 7,
   "metadata": {},
   "outputs": [
    {
     "data": {
      "text/plain": [
       "<matplotlib.text.Text at 0x110c0f610>"
      ]
     },
     "execution_count": 7,
     "metadata": {},
     "output_type": "execute_result"
    },
    {
     "data": {
      "image/png": "[encoded data removed]",
      "text/plain": [
       "<matplotlib.figure.Figure at 0x110927c10>"
      ]
     },
     "metadata": {},
     "output_type": "display_data"
    }
   ],
   "source": [
    "plot_boundary()\n",
    "plt.xlabel('x0')\n",
    "plt.ylabel('x1')"
   ]
  },
  {
   "cell_type": "markdown",
   "metadata": {},
   "source": [
    "重みを変えると識別境界がどう変わるか"
   ]
  },
  {
   "cell_type": "code",
   "execution_count": 8,
   "metadata": {},
   "outputs": [
    {
     "data": {
      "image/png": "[encoded data removed]",
      "text/plain": [
       "<matplotlib.figure.Figure at 0x10f270610>"
      ]
     },
     "metadata": {},
     "output_type": "display_data"
    }
   ],
   "source": [
    "# 斜めの識別境界をANDで繋げる\n",
    "w11 = [0.5, 0.2]\n",
    "w12 = [0.2, 0.5]\n",
    "w21 = [1.0, 1.0]\n",
    "b11 = 0.\n",
    "b12 = 0.\n",
    "b21 = -1.5\n",
    "\n",
    "plot_boundary()"
   ]
  },
  {
   "cell_type": "code",
   "execution_count": 9,
   "metadata": {},
   "outputs": [
    {
     "data": {
      "image/png": "[encoded data removed]",
      "text/plain": [
       "<matplotlib.figure.Figure at 0x110f950d0>"
      ]
     },
     "metadata": {},
     "output_type": "display_data"
    }
   ],
   "source": [
    "# 別の斜めの識別境界をORで繋げる\n",
    "w11 = [0.5, 0.2]\n",
    "w12 = [0.2, -0.5]\n",
    "w21 = [1.0, 1.0]\n",
    "b11 = 0.\n",
    "b12 = 0.\n",
    "b21 = -0.5\n",
    "\n",
    "plot_boundary()"
   ]
  },
  {
   "cell_type": "markdown",
   "metadata": {},
   "source": [
    "隠れ層を3ユニットに"
   ]
  },
  {
   "cell_type": "code",
   "execution_count": 10,
   "metadata": {
    "collapsed": true
   },
   "outputs": [],
   "source": [
    "def predict(X_dataset):\n",
    "    pred = []\n",
    "    for X in X_dataset:\n",
    "        a11_out = 1 if (np.dot(w11, X) + b11) > 0 else 0\n",
    "        a12_out = 1 if (np.dot(w12, X) + b12) > 0 else 0\n",
    "        a13_out = 1 if (np.dot(w13, X) + b13) > 0 else 0  # 1ユニット追加\n",
    "        a21_out = 1 if (np.dot(w21, [a11_out, a12_out, a13_out]) + b21) > 0 else 0\n",
    "        pred.append(a21_out)\n",
    "    return np.array(pred, dtype=np.float32)"
   ]
  },
  {
   "cell_type": "code",
   "execution_count": 11,
   "metadata": {},
   "outputs": [
    {
     "data": {
      "image/png": "[encoded data removed]",
      "text/plain": [
       "<matplotlib.figure.Figure at 0x110754dd0>"
      ]
     },
     "metadata": {},
     "output_type": "display_data"
    }
   ],
   "source": [
    "# 3つの識別境界をAND\n",
    "w11 = [0.2, 0.2]\n",
    "w12 = [-0.2, 0.5]\n",
    "w13 = [0.6, -0.2]\n",
    "w21 = [1.0, 1.0, 1.0]\n",
    "b11 = -0.2\n",
    "b12 = 0.5\n",
    "b13 = 0.6\n",
    "b21 = -2.5\n",
    "\n",
    "plot_boundary()"
   ]
  }
 ],
 "metadata": {
  "kernelspec": {
   "display_name": "Python 2",
   "language": "python",
   "name": "python2"
  },
  "language_info": {
   "codemirror_mode": {
    "name": "ipython",
    "version": 2
   },
   "file_extension": ".py",
   "mimetype": "text/x-python",
   "name": "python",
   "nbconvert_exporter": "python",
   "pygments_lexer": "ipython2",
   "version": "2.7.10"
  }
 },
 "nbformat": 4,
 "nbformat_minor": 2
}
