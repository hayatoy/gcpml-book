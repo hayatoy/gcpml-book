{
 "cells": [
  {
   "cell_type": "markdown",
   "metadata": {},
   "source": [
    "## Chapter4.3 パーセプトロン"
   ]
  },
  {
   "cell_type": "code",
   "execution_count": 1,
   "metadata": {
    "collapsed": true
   },
   "outputs": [],
   "source": [
    "import numpy as np\n",
    "import pandas as pd\n",
    "import matplotlib.pyplot as plt"
   ]
  },
  {
   "cell_type": "markdown",
   "metadata": {},
   "source": [
    "簡単なデータセットを作ります"
   ]
  },
  {
   "cell_type": "code",
   "execution_count": 2,
   "metadata": {},
   "outputs": [
    {
     "data": {
      "text/html": [
       "<div>\n",
       "<table border=\"1\" class=\"dataframe\">\n",
       "  <thead>\n",
       "    <tr style=\"text-align: right;\">\n",
       "      <th></th>\n",
       "      <th>x0</th>\n",
       "      <th>x1</th>\n",
       "      <th>y</th>\n",
       "    </tr>\n",
       "  </thead>\n",
       "  <tbody>\n",
       "    <tr>\n",
       "      <th>0</th>\n",
       "      <td>0.4</td>\n",
       "      <td>0.4</td>\n",
       "      <td>1</td>\n",
       "    </tr>\n",
       "    <tr>\n",
       "      <th>1</th>\n",
       "      <td>-0.2</td>\n",
       "      <td>0.3</td>\n",
       "      <td>1</td>\n",
       "    </tr>\n",
       "    <tr>\n",
       "      <th>2</th>\n",
       "      <td>0.3</td>\n",
       "      <td>-0.1</td>\n",
       "      <td>1</td>\n",
       "    </tr>\n",
       "    <tr>\n",
       "      <th>3</th>\n",
       "      <td>-0.4</td>\n",
       "      <td>-0.4</td>\n",
       "      <td>-1</td>\n",
       "    </tr>\n",
       "    <tr>\n",
       "      <th>4</th>\n",
       "      <td>-0.2</td>\n",
       "      <td>-0.3</td>\n",
       "      <td>-1</td>\n",
       "    </tr>\n",
       "    <tr>\n",
       "      <th>5</th>\n",
       "      <td>-0.5</td>\n",
       "      <td>0.2</td>\n",
       "      <td>-1</td>\n",
       "    </tr>\n",
       "  </tbody>\n",
       "</table>\n",
       "</div>"
      ],
      "text/plain": [
       "    x0   x1  y\n",
       "0  0.4  0.4  1\n",
       "1 -0.2  0.3  1\n",
       "2  0.3 -0.1  1\n",
       "3 -0.4 -0.4 -1\n",
       "4 -0.2 -0.3 -1\n",
       "5 -0.5  0.2 -1"
      ]
     },
     "execution_count": 2,
     "metadata": {},
     "output_type": "execute_result"
    }
   ],
   "source": [
    "X_dataset = [[0.4, 0.4],\n",
    "             [-0.2, 0.3],\n",
    "             [0.3, -0.1],\n",
    "             [-0.4, -0.4],\n",
    "             [-0.2, -0.3],\n",
    "             [-0.5, 0.2]]\n",
    "y_dataset = [1, 1, 1, -1, -1, -1]\n",
    "\n",
    "dataset = pd.DataFrame(X_dataset, columns=['x0', 'x1'])\n",
    "dataset['y'] = y_dataset\n",
    "dataset"
   ]
  },
  {
   "cell_type": "markdown",
   "metadata": {},
   "source": [
    "プロット用の関数を定義します"
   ]
  },
  {
   "cell_type": "code",
   "execution_count": 3,
   "metadata": {
    "collapsed": true
   },
   "outputs": [],
   "source": [
    "def plot_dataset(dataset):\n",
    "    fig, ax = plt.subplots()\n",
    "    for key, g in dataset.groupby('y'):\n",
    "        color = 'k' if key == 1 else 'w'\n",
    "        g.plot(ax=ax, kind='scatter', x='x0', y='x1',\n",
    "               label=key, color=color,\n",
    "               edgecolor='black', linewidth='1',\n",
    "               xlim=(-1, 1), ylim=(-1, 1))\n",
    "    return fig, ax\n",
    "\n",
    "\n",
    "def plot_boundary(m, n, c, bias):\n",
    "    x = np.array(range(-2, 2))\n",
    "    y = eval('%f*x + %f' % ((-m / (n + 1e-6)), (-c * bias / (n + 1e-6))))\n",
    "    plt.plot(x, y)"
   ]
  },
  {
   "cell_type": "markdown",
   "metadata": {},
   "source": [
    "パーセプトロンの学習を実行します"
   ]
  },
  {
   "cell_type": "code",
   "execution_count": 4,
   "metadata": {
    "scrolled": false
   },
   "outputs": [
    {
     "name": "stdout",
     "output_type": "stream",
     "text": [
      "(0.0, 0.0, 1.0, 0.0, 0.29999999999999999, -0.10000000000000001)\n",
      "(0.0, 0.29999999999999999, 0.90000000000000002, 0.0, -0.5, 0.20000000000000001)\n",
      "(0.0, 0.80000000000000004, 0.69999999999999996, 0.0)\n"
     ]
    },
    {
     "data": {
      "image/png": "[encoded data removed]",
      "text/plain": [
       "<matplotlib.figure.Figure at 0x10526f910>"
      ]
     },
     "metadata": {},
     "output_type": "display_data"
    },
    {
     "data": {
      "image/png": "[encoded data removed]",
      "text/plain": [
       "<matplotlib.figure.Figure at 0x1065022d0>"
      ]
     },
     "metadata": {},
     "output_type": "display_data"
    },
    {
     "data": {
      "image/png": "[encoded data removed]",
      "text/plain": [
       "<matplotlib.figure.Figure at 0x106502210>"
      ]
     },
     "metadata": {},
     "output_type": "display_data"
    }
   ],
   "source": [
    "def train(dataset, epochs=1):\n",
    "    learning_rate = 1.0\n",
    "    bias = 0.0\n",
    "    c = 0.0\n",
    "    m = 0.0\n",
    "    n = 1.0\n",
    "    for epoch in range(epochs):\n",
    "        for i, (x0, x1, y) in dataset.iterrows():\n",
    "            if y * (m * x0 + n * x1 + bias * c) > 0:\n",
    "                pass  # 合っているので何もしない\n",
    "            else:\n",
    "                print(c, m, n, bias, x0, x1)\n",
    "                fig, ax = plot_dataset(dataset)\n",
    "                plot_boundary(m, n, c, bias)\n",
    "\n",
    "                # 間違っている点をプロット\n",
    "                circle1 = plt.Circle((x0, x1), 0.1,\n",
    "                                     fill=False, linestyle='dashed', linewidth=2)\n",
    "                ax.add_patch(circle1)\n",
    "\n",
    "                c += learning_rate * y * bias\n",
    "                m += learning_rate * y * x0\n",
    "                n += learning_rate * y * x1\n",
    "\n",
    "    print(c, m, n, bias)\n",
    "    return m, n\n",
    "\n",
    "\n",
    "m, n = train(dataset=dataset,\n",
    "             epochs=5)\n",
    "\n",
    "plot_dataset(dataset)\n",
    "plot_boundary(m, n, c=0.0, bias=0.0)"
   ]
  },
  {
   "cell_type": "markdown",
   "metadata": {},
   "source": [
    "計算を`np.dot`を使った方法に書き換えます"
   ]
  },
  {
   "cell_type": "code",
   "execution_count": 5,
   "metadata": {
    "collapsed": true
   },
   "outputs": [],
   "source": [
    "def train(dataset, epochs=1):\n",
    "    learning_rate = 1.0\n",
    "    w = np.array([0.0, 0.0, 1.0])  # 初期値\n",
    "    for epoch in range(epochs):\n",
    "        for i, (x0, x1, y) in dataset.iterrows():\n",
    "            x = np.array([1.0, x0, x1])\n",
    "            if y * np.dot(w, x) > 0:\n",
    "                pass  # 合っているので何もしない\n",
    "            else:\n",
    "                w += learning_rate * y * x\n",
    "\n",
    "    return w"
   ]
  },
  {
   "cell_type": "markdown",
   "metadata": {},
   "source": [
    "識別境界が原点を通らないデータセットを作成"
   ]
  },
  {
   "cell_type": "code",
   "execution_count": 6,
   "metadata": {
    "collapsed": true
   },
   "outputs": [],
   "source": [
    "from sklearn.datasets import make_blobs\n",
    "\n",
    "X_dataset, y_dataset = make_blobs(centers=[[-0.25, 0.5], [0.15, -0.2]],\n",
    "                                  cluster_std=0.2,\n",
    "                                  n_samples=20,\n",
    "                                  center_box=(-1.0, 1.0),\n",
    "                                  random_state=42)\n",
    "dataset = pd.DataFrame(X_dataset, columns=['x0', 'x1'])\n",
    "dataset['y'] = y_dataset\n",
    "dataset['y'] = dataset.y.apply(lambda x: 1 if x == 1 else -1)"
   ]
  },
  {
   "cell_type": "markdown",
   "metadata": {},
   "source": [
    "学習して識別境界をプロットします"
   ]
  },
  {
   "cell_type": "code",
   "execution_count": 7,
   "metadata": {
    "scrolled": false
   },
   "outputs": [
    {
     "name": "stdout",
     "output_type": "stream",
     "text": [
      "[ 1.          3.75121666 -2.28978906]\n"
     ]
    },
    {
     "data": {
      "image/png": "[encoded data removed]",
      "text/plain": [
       "<matplotlib.figure.Figure at 0x1064a6f50>"
      ]
     },
     "metadata": {},
     "output_type": "display_data"
    }
   ],
   "source": [
    "w = train(dataset=dataset,\n",
    "          epochs=20)\n",
    "print(w)\n",
    "plot_dataset(dataset)\n",
    "plot_boundary(w[1], w[2], w[0], 1.0)"
   ]
  }
 ],
 "metadata": {
  "kernelspec": {
   "display_name": "Python 2",
   "language": "python",
   "name": "python2"
  },
  "language_info": {
   "codemirror_mode": {
    "name": "ipython",
    "version": 2
   },
   "file_extension": ".py",
   "mimetype": "text/x-python",
   "name": "python",
   "nbconvert_exporter": "python",
   "pygments_lexer": "ipython2",
   "version": "2.7.10"
  }
 },
 "nbformat": 4,
 "nbformat_minor": 2
}
